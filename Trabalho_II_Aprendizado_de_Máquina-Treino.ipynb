{
  "cells": [
    {
      "cell_type": "code",
      "execution_count": 11,
      "id": "j9L5r8Owa4zU",
      "metadata": {
        "colab": {
          "base_uri": "https://localhost:8080/"
        },
        "id": "j9L5r8Owa4zU",
        "outputId": "5af6b31a-5b73-4042-f2b4-f1cd1f4ed955"
      },
      "outputs": [
        {
          "name": "stdout",
          "output_type": "stream",
          "text": [
            "Looking in indexes: https://download.pytorch.org/whl/cu128\n",
            "Requirement already satisfied: torch in c:\\users\\vhlab\\desktop\\trabalho ml\\.venv\\lib\\site-packages (2.7.1+cu128)\n",
            "Requirement already satisfied: torchvision in c:\\users\\vhlab\\desktop\\trabalho ml\\.venv\\lib\\site-packages (0.22.1+cu128)\n",
            "Requirement already satisfied: torchaudio in c:\\users\\vhlab\\desktop\\trabalho ml\\.venv\\lib\\site-packages (2.7.1+cu128)\n",
            "Requirement already satisfied: filelock in c:\\users\\vhlab\\desktop\\trabalho ml\\.venv\\lib\\site-packages (from torch) (3.13.1)\n",
            "Requirement already satisfied: typing-extensions>=4.10.0 in c:\\users\\vhlab\\desktop\\trabalho ml\\.venv\\lib\\site-packages (from torch) (4.12.2)\n",
            "Requirement already satisfied: sympy>=1.13.3 in c:\\users\\vhlab\\desktop\\trabalho ml\\.venv\\lib\\site-packages (from torch) (1.13.3)\n",
            "Requirement already satisfied: networkx in c:\\users\\vhlab\\desktop\\trabalho ml\\.venv\\lib\\site-packages (from torch) (3.3)\n",
            "Requirement already satisfied: jinja2 in c:\\users\\vhlab\\desktop\\trabalho ml\\.venv\\lib\\site-packages (from torch) (3.1.4)\n",
            "Requirement already satisfied: fsspec in c:\\users\\vhlab\\desktop\\trabalho ml\\.venv\\lib\\site-packages (from torch) (2024.6.1)\n",
            "Requirement already satisfied: setuptools in c:\\users\\vhlab\\desktop\\trabalho ml\\.venv\\lib\\site-packages (from torch) (70.2.0)\n",
            "Requirement already satisfied: numpy in c:\\users\\vhlab\\desktop\\trabalho ml\\.venv\\lib\\site-packages (from torchvision) (2.1.2)\n",
            "Requirement already satisfied: pillow!=8.3.*,>=5.3.0 in c:\\users\\vhlab\\desktop\\trabalho ml\\.venv\\lib\\site-packages (from torchvision) (11.0.0)\n",
            "Requirement already satisfied: mpmath<1.4,>=1.1.0 in c:\\users\\vhlab\\desktop\\trabalho ml\\.venv\\lib\\site-packages (from sympy>=1.13.3->torch) (1.3.0)\n",
            "Requirement already satisfied: MarkupSafe>=2.0 in c:\\users\\vhlab\\desktop\\trabalho ml\\.venv\\lib\\site-packages (from jinja2->torch) (2.1.5)\n",
            "Note: you may need to restart the kernel to use updated packages.\n",
            "Requirement already satisfied: scikit-learn in c:\\users\\vhlab\\desktop\\trabalho ml\\.venv\\lib\\site-packages (1.7.0)\n",
            "Requirement already satisfied: numpy>=1.22.0 in c:\\users\\vhlab\\desktop\\trabalho ml\\.venv\\lib\\site-packages (from scikit-learn) (2.1.2)\n",
            "Requirement already satisfied: scipy>=1.8.0 in c:\\users\\vhlab\\desktop\\trabalho ml\\.venv\\lib\\site-packages (from scikit-learn) (1.15.3)\n",
            "Requirement already satisfied: joblib>=1.2.0 in c:\\users\\vhlab\\desktop\\trabalho ml\\.venv\\lib\\site-packages (from scikit-learn) (1.5.1)\n",
            "Requirement already satisfied: threadpoolctl>=3.1.0 in c:\\users\\vhlab\\desktop\\trabalho ml\\.venv\\lib\\site-packages (from scikit-learn) (3.6.0)\n",
            "Note: you may need to restart the kernel to use updated packages.\n",
            "Requirement already satisfied: matplotlib in c:\\users\\vhlab\\desktop\\trabalho ml\\.venv\\lib\\site-packages (3.10.3)\n",
            "Requirement already satisfied: contourpy>=1.0.1 in c:\\users\\vhlab\\desktop\\trabalho ml\\.venv\\lib\\site-packages (from matplotlib) (1.3.2)\n",
            "Requirement already satisfied: cycler>=0.10 in c:\\users\\vhlab\\desktop\\trabalho ml\\.venv\\lib\\site-packages (from matplotlib) (0.12.1)\n",
            "Requirement already satisfied: fonttools>=4.22.0 in c:\\users\\vhlab\\desktop\\trabalho ml\\.venv\\lib\\site-packages (from matplotlib) (4.58.2)\n",
            "Requirement already satisfied: kiwisolver>=1.3.1 in c:\\users\\vhlab\\desktop\\trabalho ml\\.venv\\lib\\site-packages (from matplotlib) (1.4.8)\n",
            "Requirement already satisfied: numpy>=1.23 in c:\\users\\vhlab\\desktop\\trabalho ml\\.venv\\lib\\site-packages (from matplotlib) (2.1.2)\n",
            "Requirement already satisfied: packaging>=20.0 in c:\\users\\vhlab\\desktop\\trabalho ml\\.venv\\lib\\site-packages (from matplotlib) (25.0)\n",
            "Requirement already satisfied: pillow>=8 in c:\\users\\vhlab\\desktop\\trabalho ml\\.venv\\lib\\site-packages (from matplotlib) (11.0.0)\n",
            "Requirement already satisfied: pyparsing>=2.3.1 in c:\\users\\vhlab\\desktop\\trabalho ml\\.venv\\lib\\site-packages (from matplotlib) (3.2.3)\n",
            "Requirement already satisfied: python-dateutil>=2.7 in c:\\users\\vhlab\\desktop\\trabalho ml\\.venv\\lib\\site-packages (from matplotlib) (2.9.0.post0)\n",
            "Requirement already satisfied: six>=1.5 in c:\\users\\vhlab\\desktop\\trabalho ml\\.venv\\lib\\site-packages (from python-dateutil>=2.7->matplotlib) (1.17.0)\n",
            "Note: you may need to restart the kernel to use updated packages.\n",
            "Requirement already satisfied: seaborn in c:\\users\\vhlab\\desktop\\trabalho ml\\.venv\\lib\\site-packages (0.13.2)\n",
            "Requirement already satisfied: numpy!=1.24.0,>=1.20 in c:\\users\\vhlab\\desktop\\trabalho ml\\.venv\\lib\\site-packages (from seaborn) (2.1.2)\n",
            "Requirement already satisfied: pandas>=1.2 in c:\\users\\vhlab\\desktop\\trabalho ml\\.venv\\lib\\site-packages (from seaborn) (2.3.0)\n",
            "Requirement already satisfied: matplotlib!=3.6.1,>=3.4 in c:\\users\\vhlab\\desktop\\trabalho ml\\.venv\\lib\\site-packages (from seaborn) (3.10.3)\n",
            "Requirement already satisfied: contourpy>=1.0.1 in c:\\users\\vhlab\\desktop\\trabalho ml\\.venv\\lib\\site-packages (from matplotlib!=3.6.1,>=3.4->seaborn) (1.3.2)\n",
            "Requirement already satisfied: cycler>=0.10 in c:\\users\\vhlab\\desktop\\trabalho ml\\.venv\\lib\\site-packages (from matplotlib!=3.6.1,>=3.4->seaborn) (0.12.1)\n",
            "Requirement already satisfied: fonttools>=4.22.0 in c:\\users\\vhlab\\desktop\\trabalho ml\\.venv\\lib\\site-packages (from matplotlib!=3.6.1,>=3.4->seaborn) (4.58.2)\n",
            "Requirement already satisfied: kiwisolver>=1.3.1 in c:\\users\\vhlab\\desktop\\trabalho ml\\.venv\\lib\\site-packages (from matplotlib!=3.6.1,>=3.4->seaborn) (1.4.8)\n",
            "Requirement already satisfied: packaging>=20.0 in c:\\users\\vhlab\\desktop\\trabalho ml\\.venv\\lib\\site-packages (from matplotlib!=3.6.1,>=3.4->seaborn) (25.0)\n",
            "Requirement already satisfied: pillow>=8 in c:\\users\\vhlab\\desktop\\trabalho ml\\.venv\\lib\\site-packages (from matplotlib!=3.6.1,>=3.4->seaborn) (11.0.0)\n",
            "Requirement already satisfied: pyparsing>=2.3.1 in c:\\users\\vhlab\\desktop\\trabalho ml\\.venv\\lib\\site-packages (from matplotlib!=3.6.1,>=3.4->seaborn) (3.2.3)\n",
            "Requirement already satisfied: python-dateutil>=2.7 in c:\\users\\vhlab\\desktop\\trabalho ml\\.venv\\lib\\site-packages (from matplotlib!=3.6.1,>=3.4->seaborn) (2.9.0.post0)\n",
            "Requirement already satisfied: pytz>=2020.1 in c:\\users\\vhlab\\desktop\\trabalho ml\\.venv\\lib\\site-packages (from pandas>=1.2->seaborn) (2025.2)\n",
            "Requirement already satisfied: tzdata>=2022.7 in c:\\users\\vhlab\\desktop\\trabalho ml\\.venv\\lib\\site-packages (from pandas>=1.2->seaborn) (2025.2)\n",
            "Requirement already satisfied: six>=1.5 in c:\\users\\vhlab\\desktop\\trabalho ml\\.venv\\lib\\site-packages (from python-dateutil>=2.7->matplotlib!=3.6.1,>=3.4->seaborn) (1.17.0)\n",
            "Note: you may need to restart the kernel to use updated packages.\n",
            "Collecting requests\n",
            "  Downloading requests-2.32.4-py3-none-any.whl.metadata (4.9 kB)\n",
            "Collecting charset_normalizer<4,>=2 (from requests)\n",
            "  Downloading charset_normalizer-3.4.2-cp312-cp312-win_amd64.whl.metadata (36 kB)\n",
            "Collecting idna<4,>=2.5 (from requests)\n",
            "  Downloading idna-3.10-py3-none-any.whl.metadata (10 kB)\n",
            "Collecting urllib3<3,>=1.21.1 (from requests)\n",
            "  Downloading urllib3-2.4.0-py3-none-any.whl.metadata (6.5 kB)\n",
            "Collecting certifi>=2017.4.17 (from requests)\n",
            "  Downloading certifi-2025.4.26-py3-none-any.whl.metadata (2.5 kB)\n",
            "Downloading requests-2.32.4-py3-none-any.whl (64 kB)\n",
            "Downloading charset_normalizer-3.4.2-cp312-cp312-win_amd64.whl (105 kB)\n",
            "Downloading idna-3.10-py3-none-any.whl (70 kB)\n",
            "Downloading urllib3-2.4.0-py3-none-any.whl (128 kB)\n",
            "Downloading certifi-2025.4.26-py3-none-any.whl (159 kB)\n",
            "Installing collected packages: urllib3, idna, charset_normalizer, certifi, requests\n",
            "\n",
            "   ---------------------------------------- 0/5 [urllib3]\n",
            "   ---------------------------------------- 0/5 [urllib3]\n",
            "   -------- ------------------------------- 1/5 [idna]\n",
            "   ---------------- ----------------------- 2/5 [charset_normalizer]\n",
            "   -------------------------------- ------- 4/5 [requests]\n",
            "   ---------------------------------------- 5/5 [requests]\n",
            "\n",
            "Successfully installed certifi-2025.4.26 charset_normalizer-3.4.2 idna-3.10 requests-2.32.4 urllib3-2.4.0\n",
            "Note: you may need to restart the kernel to use updated packages.\n"
          ]
        }
      ],
      "source": [
        "%pip install torch torchvision torchaudio --index-url https://download.pytorch.org/whl/cu128\n",
        "%pip install scikit-learn\n",
        "%pip install matplotlib\n",
        "%pip install seaborn\n",
        "%pip install requests"
      ]
    },
    {
      "cell_type": "code",
      "execution_count": 3,
      "id": "initial_id",
      "metadata": {
        "ExecuteTime": {
          "end_time": "2025-06-01T05:41:20.317890Z",
          "start_time": "2025-06-01T05:41:20.313978Z"
        },
        "collapsed": true,
        "id": "initial_id"
      },
      "outputs": [],
      "source": [
        "import torch\n",
        "\n",
        "from torch.utils.data import DataLoader\n",
        "import torch.optim as optim\n",
        "import torch.nn as nn\n",
        "\n",
        "from torchvision.models import resnet50, ResNet50_Weights\n",
        "from torchvision import datasets, transforms\n",
        "\n",
        "from sklearn.metrics import classification_report, accuracy_score, confusion_matrix\n",
        "\n",
        "import matplotlib.pyplot as plt\n",
        "import seaborn as sns"
      ]
    },
    {
      "cell_type": "code",
      "execution_count": 5,
      "id": "0o8mY9vcas7j",
      "metadata": {
        "id": "0o8mY9vcas7j"
      },
      "outputs": [],
      "source": [
        "IMAGE_SIZE = (224, 224)\n",
        "BATCH_SIZE = 32\n",
        "\n",
        "class_names = ['Aster', 'Daisy', 'Iris', 'Lavender', 'Lily', 'Marigold', 'Orchid', 'Poppy', 'Rose', 'Sunflower']"
      ]
    },
    {
      "cell_type": "code",
      "execution_count": 10,
      "id": "1811e3dcc99f317c",
      "metadata": {
        "ExecuteTime": {
          "end_time": "2025-06-01T05:15:22.572141Z",
          "start_time": "2025-06-01T05:15:22.486757Z"
        },
        "id": "1811e3dcc99f317c"
      },
      "outputs": [
        {
          "name": "stdout",
          "output_type": "stream",
          "text": [
            "Num Dataset:  22355\n",
            "Num Treino:  15000\n",
            "Num Validação:  2355\n",
            "Num Teste:  5000\n"
          ]
        }
      ],
      "source": [
        "train_transforms = transforms.Compose([\n",
        "    transforms.Resize(IMAGE_SIZE),\n",
        "    transforms.ToTensor(),\n",
        "])\n",
        "\n",
        "val_test_transforms = transforms.Compose([\n",
        "    transforms.Resize(IMAGE_SIZE),\n",
        "    transforms.CenterCrop(IMAGE_SIZE),\n",
        "    transforms.ToTensor(),\n",
        "])\n",
        "\n",
        "train_dataset = datasets.ImageFolder('./Dataset/Training Data', transform=train_transforms)\n",
        "val_dataset   = datasets.ImageFolder('./Dataset/Validation Data', transform=val_test_transforms)\n",
        "test_dataset  = datasets.ImageFolder('./Dataset/Testing Data', transform=val_test_transforms)\n",
        "\n",
        "print(\"Num Dataset: \", str((len(train_dataset) + len(val_dataset) + len(test_dataset))))\n",
        "print(\"Num Treino: \", str(len(train_dataset)))\n",
        "print(\"Num Validação: \", str(len(val_dataset)))\n",
        "print(\"Num Teste: \", str(len(test_dataset)))\n",
        "\n",
        "train_loader = DataLoader(train_dataset, batch_size=BATCH_SIZE, shuffle=True)\n",
        "val_loader   = DataLoader(val_dataset, batch_size=BATCH_SIZE, shuffle=True)\n",
        "test_loader  = DataLoader(test_dataset, batch_size=BATCH_SIZE, shuffle=False)"
      ]
    },
    {
      "cell_type": "code",
      "execution_count": null,
      "id": "7a870a0aa6940211",
      "metadata": {
        "ExecuteTime": {
          "end_time": "2025-06-01T05:15:26.353794Z",
          "start_time": "2025-06-01T05:15:25.950097Z"
        },
        "colab": {
          "base_uri": "https://localhost:8080/"
        },
        "id": "7a870a0aa6940211",
        "outputId": "b68277f7-2d01-4cde-b582-6b672027d3dd"
      },
      "outputs": [],
      "source": [
        "model = resnet50(weights=ResNet50_Weights.DEFAULT)\n",
        "num_features = model.fc.in_features\n",
        "\n",
        "model.fc = torch.nn.Linear(num_features, 10)\n",
        "\n",
        "device = torch.device(\"cuda\" if torch.cuda.is_available() else \"cpu\")\n",
        "model = model.to(device)"
      ]
    },
    {
      "cell_type": "code",
      "execution_count": null,
      "id": "ca09f48901e7508f",
      "metadata": {
        "ExecuteTime": {
          "end_time": "2025-06-01T05:15:26.898597Z",
          "start_time": "2025-06-01T05:15:26.893046Z"
        },
        "id": "ca09f48901e7508f"
      },
      "outputs": [],
      "source": [
        "criterion = nn.CrossEntropyLoss()\n",
        "\n",
        "optimizer = optim.Adam(model.parameters(), lr=0.001)\n",
        "\n",
        "scheduler = optim.lr_scheduler.StepLR(optimizer, step_size=7, gamma=0.1)"
      ]
    },
    {
      "cell_type": "code",
      "execution_count": null,
      "id": "3caf655ed40bf6bb",
      "metadata": {
        "ExecuteTime": {
          "end_time": "2025-06-01T05:31:17.353662Z",
          "start_time": "2025-06-01T05:15:28.512709Z"
        },
        "id": "3caf655ed40bf6bb"
      },
      "outputs": [],
      "source": [
        "num_epochs = 25\n",
        "\n",
        "for epoch in range(num_epochs):\n",
        "    model.train()\n",
        "    running_loss = 0.0\n",
        "\n",
        "    for images, labels in train_loader:\n",
        "        images, labels = images.to(device), labels.to(device)\n",
        "\n",
        "        optimizer.zero_grad()\n",
        "\n",
        "        outputs = model(images)\n",
        "        loss = criterion(outputs, labels)\n",
        "        loss.backward()\n",
        "        optimizer.step()\n",
        "\n",
        "        running_loss += loss.item()\n",
        "\n",
        "    scheduler.step()\n",
        "\n",
        "    print(f\"Epoch [{epoch+1}/{num_epochs}], Loss: {running_loss/len(train_loader):.4f}\")\n",
        "\n",
        "print(\"Training complete! 🎉\")"
      ]
    },
    {
      "cell_type": "code",
      "execution_count": null,
      "id": "b2868bef90135c2b",
      "metadata": {
        "ExecuteTime": {
          "end_time": "2025-06-01T05:37:31.037921Z",
          "start_time": "2025-06-01T05:37:06.382202Z"
        },
        "id": "b2868bef90135c2b"
      },
      "outputs": [],
      "source": [
        "all_preds = []\n",
        "all_labels = []\n",
        "\n",
        "with torch.no_grad():\n",
        "    for images, labels in val_loader:\n",
        "        images = images.to(device)\n",
        "        labels = labels.to(device)\n",
        "\n",
        "        outputs = model(images)\n",
        "        _, preds = torch.max(outputs, 1)\n",
        "\n",
        "        all_preds.extend(preds.cpu().numpy())\n",
        "        all_labels.extend(labels.cpu().numpy())"
      ]
    },
    {
      "cell_type": "code",
      "execution_count": null,
      "id": "7ccba7ac4c52e31a",
      "metadata": {
        "ExecuteTime": {
          "end_time": "2025-06-01T05:38:52.368433Z",
          "start_time": "2025-06-01T05:38:52.356133Z"
        },
        "id": "7ccba7ac4c52e31a"
      },
      "outputs": [],
      "source": [
        "accuracy = accuracy_score(all_labels, all_preds)\n",
        "print(f\"Accuracy: {accuracy:.4f}\\n\")\n",
        "\n",
        "print(classification_report(all_labels, all_preds, target_names=class_names))"
      ]
    },
    {
      "cell_type": "code",
      "execution_count": null,
      "id": "e1a2ed5d19538818",
      "metadata": {
        "ExecuteTime": {
          "end_time": "2025-06-01T05:41:24.954676Z",
          "start_time": "2025-06-01T05:41:24.690654Z"
        },
        "id": "e1a2ed5d19538818"
      },
      "outputs": [],
      "source": [
        "cm = confusion_matrix(all_labels, all_preds)\n",
        "\n",
        "plt.figure(figsize=(8, 6))\n",
        "sns.heatmap(cm, annot=True, fmt=\"d\", cmap=\"Blues\", xticklabels=class_names, yticklabels=class_names)\n",
        "plt.xlabel(\"Predicted Label\")\n",
        "plt.ylabel(\"True Label\")\n",
        "plt.title(\"Confusion Matrix\")\n",
        "plt.tight_layout()\n",
        "plt.show()\n"
      ]
    },
    {
      "cell_type": "code",
      "execution_count": null,
      "id": "548e06422443bf1f",
      "metadata": {
        "id": "548e06422443bf1f"
      },
      "outputs": [],
      "source": [
        "torch.save(model, '/content/drive/MyDrive/Aprendizado de Maquina/Data-ML/resnet50_flowers_dataset.h5')"
      ]
    }
  ],
  "metadata": {
    "accelerator": "GPU",
    "colab": {
      "gpuType": "T4",
      "provenance": []
    },
    "kernelspec": {
      "display_name": ".venv",
      "language": "python",
      "name": "python3"
    },
    "language_info": {
      "codemirror_mode": {
        "name": "ipython",
        "version": 3
      },
      "file_extension": ".py",
      "mimetype": "text/x-python",
      "name": "python",
      "nbconvert_exporter": "python",
      "pygments_lexer": "ipython3",
      "version": "3.12.5"
    }
  },
  "nbformat": 4,
  "nbformat_minor": 5
}
